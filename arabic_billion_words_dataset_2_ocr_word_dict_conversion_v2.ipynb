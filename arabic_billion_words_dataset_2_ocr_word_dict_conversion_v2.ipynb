{
  "nbformat": 4,
  "nbformat_minor": 0,
  "metadata": {
    "colab": {
      "name": "arabic-billion-words-dataset-2-ocr-word-dict-conversion-v2.ipynb",
      "provenance": [],
      "collapsed_sections": [],
      "mount_file_id": "1uVvA28C-KvBFCL6a_GtqdoUGfsG9WTAf",
      "authorship_tag": "ABX9TyPC5mkJHzLYqPdZImQuHU1e",
      "include_colab_link": true
    },
    "kernelspec": {
      "name": "python3",
      "display_name": "Python 3"
    },
    "language_info": {
      "name": "python"
    },
    "widgets": {
      "application/vnd.jupyter.widget-state+json": {}
    }
  },
  "cells": [
    {
      "cell_type": "markdown",
      "metadata": {
        "id": "view-in-github",
        "colab_type": "text"
      },
      "source": [
        "<a href=\"https://colab.research.google.com/github/Nivratti/TextRecognitionDataGenerator/blob/master/arabic_billion_words_dataset_2_ocr_word_dict_conversion_v2.ipynb\" target=\"_parent\"><img src=\"https://colab.research.google.com/assets/colab-badge.svg\" alt=\"Open In Colab\"/></a>"
      ]
    },
    {
      "cell_type": "markdown",
      "source": [
        "https://huggingface.co/datasets/arabic_billion_words"
      ],
      "metadata": {
        "id": "zw9imC4ggijR"
      }
    },
    {
      "cell_type": "markdown",
      "source": [
        "## Setup"
      ],
      "metadata": {
        "id": "_sPW8sJVnrWi"
      }
    },
    {
      "cell_type": "code",
      "execution_count": null,
      "metadata": {
        "id": "5c814YyeiM32",
        "colab": {
          "base_uri": "https://localhost:8080/"
        },
        "outputId": "dc167a0b-dd33-4407-cfb4-2df4ee3364c7"
      },
      "outputs": [
        {
          "output_type": "stream",
          "name": "stdout",
          "text": [
            "Collecting datasets\n",
            "  Downloading datasets-1.18.4-py3-none-any.whl (312 kB)\n",
            "\u001b[?25l\r\u001b[K     |█                               | 10 kB 23.9 MB/s eta 0:00:01\r\u001b[K     |██                              | 20 kB 8.3 MB/s eta 0:00:01\r\u001b[K     |███▏                            | 30 kB 6.1 MB/s eta 0:00:01\r\u001b[K     |████▏                           | 40 kB 5.8 MB/s eta 0:00:01\r\u001b[K     |█████▎                          | 51 kB 2.7 MB/s eta 0:00:01\r\u001b[K     |██████▎                         | 61 kB 3.2 MB/s eta 0:00:01\r\u001b[K     |███████▍                        | 71 kB 3.4 MB/s eta 0:00:01\r\u001b[K     |████████▍                       | 81 kB 3.6 MB/s eta 0:00:01\r\u001b[K     |█████████▌                      | 92 kB 4.0 MB/s eta 0:00:01\r\u001b[K     |██████████▌                     | 102 kB 3.2 MB/s eta 0:00:01\r\u001b[K     |███████████▌                    | 112 kB 3.2 MB/s eta 0:00:01\r\u001b[K     |████████████▋                   | 122 kB 3.2 MB/s eta 0:00:01\r\u001b[K     |█████████████▋                  | 133 kB 3.2 MB/s eta 0:00:01\r\u001b[K     |██████████████▊                 | 143 kB 3.2 MB/s eta 0:00:01\r\u001b[K     |███████████████▊                | 153 kB 3.2 MB/s eta 0:00:01\r\u001b[K     |████████████████▉               | 163 kB 3.2 MB/s eta 0:00:01\r\u001b[K     |█████████████████▉              | 174 kB 3.2 MB/s eta 0:00:01\r\u001b[K     |███████████████████             | 184 kB 3.2 MB/s eta 0:00:01\r\u001b[K     |████████████████████            | 194 kB 3.2 MB/s eta 0:00:01\r\u001b[K     |█████████████████████           | 204 kB 3.2 MB/s eta 0:00:01\r\u001b[K     |██████████████████████          | 215 kB 3.2 MB/s eta 0:00:01\r\u001b[K     |███████████████████████         | 225 kB 3.2 MB/s eta 0:00:01\r\u001b[K     |████████████████████████▏       | 235 kB 3.2 MB/s eta 0:00:01\r\u001b[K     |█████████████████████████▏      | 245 kB 3.2 MB/s eta 0:00:01\r\u001b[K     |██████████████████████████▎     | 256 kB 3.2 MB/s eta 0:00:01\r\u001b[K     |███████████████████████████▎    | 266 kB 3.2 MB/s eta 0:00:01\r\u001b[K     |████████████████████████████▍   | 276 kB 3.2 MB/s eta 0:00:01\r\u001b[K     |█████████████████████████████▍  | 286 kB 3.2 MB/s eta 0:00:01\r\u001b[K     |██████████████████████████████▌ | 296 kB 3.2 MB/s eta 0:00:01\r\u001b[K     |███████████████████████████████▌| 307 kB 3.2 MB/s eta 0:00:01\r\u001b[K     |████████████████████████████████| 312 kB 3.2 MB/s \n",
            "\u001b[?25hCollecting responses<0.19\n",
            "  Downloading responses-0.18.0-py3-none-any.whl (38 kB)\n",
            "Requirement already satisfied: pyarrow!=4.0.0,>=3.0.0 in /usr/local/lib/python3.7/dist-packages (from datasets) (6.0.1)\n",
            "Requirement already satisfied: multiprocess in /usr/local/lib/python3.7/dist-packages (from datasets) (0.70.12.2)\n",
            "Requirement already satisfied: tqdm>=4.62.1 in /usr/local/lib/python3.7/dist-packages (from datasets) (4.63.0)\n",
            "Requirement already satisfied: dill in /usr/local/lib/python3.7/dist-packages (from datasets) (0.3.4)\n",
            "Collecting xxhash\n",
            "  Downloading xxhash-3.0.0-cp37-cp37m-manylinux_2_17_x86_64.manylinux2014_x86_64.whl (212 kB)\n",
            "\u001b[K     |████████████████████████████████| 212 kB 61.2 MB/s \n",
            "\u001b[?25hRequirement already satisfied: pandas in /usr/local/lib/python3.7/dist-packages (from datasets) (1.3.5)\n",
            "Requirement already satisfied: packaging in /usr/local/lib/python3.7/dist-packages (from datasets) (21.3)\n",
            "Requirement already satisfied: importlib-metadata in /usr/local/lib/python3.7/dist-packages (from datasets) (4.11.2)\n",
            "Requirement already satisfied: numpy>=1.17 in /usr/local/lib/python3.7/dist-packages (from datasets) (1.21.5)\n",
            "Collecting fsspec[http]>=2021.05.0\n",
            "  Downloading fsspec-2022.2.0-py3-none-any.whl (134 kB)\n",
            "\u001b[K     |████████████████████████████████| 134 kB 42.7 MB/s \n",
            "\u001b[?25hCollecting huggingface-hub<1.0.0,>=0.1.0\n",
            "  Downloading huggingface_hub-0.4.0-py3-none-any.whl (67 kB)\n",
            "\u001b[K     |████████████████████████████████| 67 kB 4.3 MB/s \n",
            "\u001b[?25hCollecting aiohttp\n",
            "  Downloading aiohttp-3.8.1-cp37-cp37m-manylinux_2_5_x86_64.manylinux1_x86_64.manylinux_2_12_x86_64.manylinux2010_x86_64.whl (1.1 MB)\n",
            "\u001b[K     |████████████████████████████████| 1.1 MB 38.9 MB/s \n",
            "\u001b[?25hRequirement already satisfied: requests>=2.19.0 in /usr/local/lib/python3.7/dist-packages (from datasets) (2.23.0)\n",
            "Requirement already satisfied: pyyaml in /usr/local/lib/python3.7/dist-packages (from huggingface-hub<1.0.0,>=0.1.0->datasets) (3.13)\n",
            "Requirement already satisfied: filelock in /usr/local/lib/python3.7/dist-packages (from huggingface-hub<1.0.0,>=0.1.0->datasets) (3.6.0)\n",
            "Requirement already satisfied: typing-extensions>=3.7.4.3 in /usr/local/lib/python3.7/dist-packages (from huggingface-hub<1.0.0,>=0.1.0->datasets) (3.10.0.2)\n",
            "Requirement already satisfied: pyparsing!=3.0.5,>=2.0.2 in /usr/local/lib/python3.7/dist-packages (from packaging->datasets) (3.0.7)\n",
            "Requirement already satisfied: certifi>=2017.4.17 in /usr/local/lib/python3.7/dist-packages (from requests>=2.19.0->datasets) (2021.10.8)\n",
            "Requirement already satisfied: idna<3,>=2.5 in /usr/local/lib/python3.7/dist-packages (from requests>=2.19.0->datasets) (2.10)\n",
            "Requirement already satisfied: urllib3!=1.25.0,!=1.25.1,<1.26,>=1.21.1 in /usr/local/lib/python3.7/dist-packages (from requests>=2.19.0->datasets) (1.24.3)\n",
            "Requirement already satisfied: chardet<4,>=3.0.2 in /usr/local/lib/python3.7/dist-packages (from requests>=2.19.0->datasets) (3.0.4)\n",
            "Collecting urllib3!=1.25.0,!=1.25.1,<1.26,>=1.21.1\n",
            "  Downloading urllib3-1.25.11-py2.py3-none-any.whl (127 kB)\n",
            "\u001b[K     |████████████████████████████████| 127 kB 70.2 MB/s \n",
            "\u001b[?25hRequirement already satisfied: charset-normalizer<3.0,>=2.0 in /usr/local/lib/python3.7/dist-packages (from aiohttp->datasets) (2.0.12)\n",
            "Collecting aiosignal>=1.1.2\n",
            "  Downloading aiosignal-1.2.0-py3-none-any.whl (8.2 kB)\n",
            "Collecting frozenlist>=1.1.1\n",
            "  Downloading frozenlist-1.3.0-cp37-cp37m-manylinux_2_5_x86_64.manylinux1_x86_64.manylinux_2_17_x86_64.manylinux2014_x86_64.whl (144 kB)\n",
            "\u001b[K     |████████████████████████████████| 144 kB 65.8 MB/s \n",
            "\u001b[?25hCollecting async-timeout<5.0,>=4.0.0a3\n",
            "  Downloading async_timeout-4.0.2-py3-none-any.whl (5.8 kB)\n",
            "Collecting asynctest==0.13.0\n",
            "  Downloading asynctest-0.13.0-py3-none-any.whl (26 kB)\n",
            "Collecting yarl<2.0,>=1.0\n",
            "  Downloading yarl-1.7.2-cp37-cp37m-manylinux_2_5_x86_64.manylinux1_x86_64.manylinux_2_12_x86_64.manylinux2010_x86_64.whl (271 kB)\n",
            "\u001b[K     |████████████████████████████████| 271 kB 54.9 MB/s \n",
            "\u001b[?25hRequirement already satisfied: attrs>=17.3.0 in /usr/local/lib/python3.7/dist-packages (from aiohttp->datasets) (21.4.0)\n",
            "Collecting multidict<7.0,>=4.5\n",
            "  Downloading multidict-6.0.2-cp37-cp37m-manylinux_2_17_x86_64.manylinux2014_x86_64.whl (94 kB)\n",
            "\u001b[K     |████████████████████████████████| 94 kB 829 kB/s \n",
            "\u001b[?25hRequirement already satisfied: zipp>=0.5 in /usr/local/lib/python3.7/dist-packages (from importlib-metadata->datasets) (3.7.0)\n",
            "Requirement already satisfied: python-dateutil>=2.7.3 in /usr/local/lib/python3.7/dist-packages (from pandas->datasets) (2.8.2)\n",
            "Requirement already satisfied: pytz>=2017.3 in /usr/local/lib/python3.7/dist-packages (from pandas->datasets) (2018.9)\n",
            "Requirement already satisfied: six>=1.5 in /usr/local/lib/python3.7/dist-packages (from python-dateutil>=2.7.3->pandas->datasets) (1.15.0)\n",
            "Installing collected packages: multidict, frozenlist, yarl, urllib3, asynctest, async-timeout, aiosignal, fsspec, aiohttp, xxhash, responses, huggingface-hub, datasets\n",
            "  Attempting uninstall: urllib3\n",
            "    Found existing installation: urllib3 1.24.3\n",
            "    Uninstalling urllib3-1.24.3:\n",
            "      Successfully uninstalled urllib3-1.24.3\n",
            "\u001b[31mERROR: pip's dependency resolver does not currently take into account all the packages that are installed. This behaviour is the source of the following dependency conflicts.\n",
            "datascience 0.10.6 requires folium==0.2.1, but you have folium 0.8.3 which is incompatible.\u001b[0m\n",
            "Successfully installed aiohttp-3.8.1 aiosignal-1.2.0 async-timeout-4.0.2 asynctest-0.13.0 datasets-1.18.4 frozenlist-1.3.0 fsspec-2022.2.0 huggingface-hub-0.4.0 multidict-6.0.2 responses-0.18.0 urllib3-1.25.11 xxhash-3.0.0 yarl-1.7.2\n"
          ]
        }
      ],
      "source": [
        "!pip install datasets"
      ]
    },
    {
      "cell_type": "code",
      "source": [
        "!pip install regex"
      ],
      "metadata": {
        "colab": {
          "base_uri": "https://localhost:8080/"
        },
        "id": "F-s-o3NPm0Qv",
        "outputId": "be2728a4-68ab-4fe6-e0e6-4086824d3d51"
      },
      "execution_count": null,
      "outputs": [
        {
          "output_type": "stream",
          "name": "stdout",
          "text": [
            "Requirement already satisfied: regex in /usr/local/lib/python3.7/dist-packages (2019.12.20)\n"
          ]
        }
      ]
    },
    {
      "cell_type": "code",
      "source": [
        "!pip install rarfile # extarcting billion dataset files"
      ],
      "metadata": {
        "colab": {
          "base_uri": "https://localhost:8080/"
        },
        "id": "YWcHOaobjrBu",
        "outputId": "2b2a7799-4b31-4a98-fdaa-4cc5782f98e0"
      },
      "execution_count": null,
      "outputs": [
        {
          "output_type": "stream",
          "name": "stdout",
          "text": [
            "Collecting rarfile\n",
            "  Downloading rarfile-4.0-py3-none-any.whl (28 kB)\n",
            "Installing collected packages: rarfile\n",
            "Successfully installed rarfile-4.0\n"
          ]
        }
      ]
    },
    {
      "cell_type": "markdown",
      "source": [
        "## Loop all newspapers and get words and save each file "
      ],
      "metadata": {
        "id": "yDEtZuB-ln0b"
      }
    },
    {
      "cell_type": "code",
      "source": [
        ""
      ],
      "metadata": {
        "colab": {
          "base_uri": "https://localhost:8080/",
          "height": 808,
          "referenced_widgets": [
            "4912703aaf3d43d5827681a906ba36d5",
            "f99ad8918a2e4b3c86c1d1fa49c3302f",
            "224edaff5d324231bde34f1d72527c10",
            "71ac8e34f60b4780ad3876e7cd78ffbc",
            "d405c7905700495b9f868cef61dec272",
            "f661be975aca4263a188af5a98c4367b",
            "b354297deff14cc18d6a78dfdb313383",
            "8fbec996be0d4409a8aa6d100b9c83cb",
            "08226a842e914a7aa27bec97719c5175",
            "d87a9e8a7b064f0d9043c7a5785ff9b9",
            "672b713f798340efaeef3c95c9d4e854",
            "4a63ee388d7542f58fdb8261b4e825fa",
            "823417ef161448b2bb7d61be5bffea44",
            "16814b70cdc14e6cafa52f3791e53762",
            "66695323eb114ac19613097799aaa082",
            "816a9cd66c8e4cd3b0a030ea562e35c1",
            "059d7f3d510647bf94703fd0bb5ea194",
            "f2254a91969e4a66953f409b034688c9",
            "340996f77fc14da49b0546cdb73783a5",
            "7559c1869c5f4122a09b6ae02388b33e",
            "420e0c81aa1d4e2392e370f00804b5d0",
            "24d801b4ef694458bf7aafe9c9a1b80d",
            "0bb8cf5495cc4509a9f4a7342dddfddd",
            "87acb37e5027465ea72a1c391af20cfe",
            "42a48a8ddd5d4db1877a69314dcd0f09",
            "021d2b4e148e46fcb27d3e517ab6dc1c",
            "6106b75cf7544eeb833e3bfc37faa9da",
            "7eb8d626bfbb42ed980c3422bc6664cb",
            "b43fbf42cf4d4f63bb0647db5d1a4f01",
            "5e3292b7b4b646bbbe3ea4f94d759a9c",
            "c01bccfd4155448bbe017434c6a1c29a",
            "01070150fb5c40e0963a9641e32bf935",
            "10e8fe76e3664025911241bf5b410d6b",
            "92744058fd244fe2abfd406b77a7efee",
            "a1914447af794b81ae59082438bf5c76",
            "3dfd8fa084694bdc8f460d8dcd994789",
            "ed77ea8aae7445f58ee88f8ba4635a1a",
            "4d3cb821e3f04249af38fd771693435d",
            "1c567aa5ceeb48438262ec4b5e3410e0",
            "e2350e1e67524da5a7e5deea04bae97b",
            "5cc1f976a51544c48101764ddbab79f7",
            "45ecfbc4692145a98393ab33faa783ce",
            "7bacabe62a7a480b989f84fcf665c949",
            "002b591b19484263a66eef1f683a0e08",
            "f9ffb435a24144e9b1e5aec1168f8e56",
            "8df0ddb45aa74575a82f063d3d152d30",
            "f4cc22c297b24e9eba46b370711e8dce",
            "60cee9a535c74710a6812efc2c96967d",
            "ced732d349a64607add63025c13faed7",
            "e30eb65efb5e4f9a82cd2f70d9ec55dc",
            "3b2893b1403949b1bd94649a561f98d0",
            "d50fbb519bc04fd5a24861128d478faf",
            "b38fccc0e8a5412cbbc8f7b9833d2d18",
            "c1345f9a14f54fc5b61bff80989c4b8b",
            "8d339409c093493a963bfaf0ee7aac79",
            "121f648152c248369f1326f9042033c2",
            "82a0494f86744b40a5c99c3a814b0703",
            "9247a5d4672849059fd0bab6996d5a7f",
            "60d3059cb84f49b0b40c14262d2ac850",
            "ad5e7f69185c4bc889a69e96abb13afb",
            "1aa4b8f8b9d64847baf91318a3f6f20c",
            "7a1a22ec743c483ca43f2936b9919ad8",
            "8909831bcd16415c9a521952914592c5",
            "90db05be800d467a87a87166a55d21ab",
            "ded4f86af8584147b471907b7eb779f4",
            "805038694b7e44c89adb7bb532133f7a",
            "e81a89e34f1c446389058872b1cb7104",
            "ebf472ca96564c8c8840b56349a0b648",
            "c2c6ee4c4ad34cb3b7e305a6c99c6fd4",
            "7d8fd0a1c5f3413a90814c8258d929d3",
            "6c55f961fbd0427faf225dc90b2e8973",
            "fe292b3fb6c949269bb434cdb21f5897",
            "643bfcf3a5774035a473a69df53e42ed",
            "6b8623da03804e8fba4de4811e371131",
            "c2cb767c67d44c1c80ce593c4c760635",
            "8ca70f0ef1784e269308b856130d52ec",
            "72f820bd6449437bb309dcc4919dfe3c",
            "16e73a84a201460cbc9fd15ef40fbda0",
            "0fa632b6df7446208e2b26aa725c4fee",
            "3952db5476e34a27b6f0e361213c9a35",
            "36450d22f80d45449dce6c66130f810f",
            "33bec2a654374503a82777e699626b6e",
            "3d2a606bf56e46d1abe22d2c6fb32e7c",
            "2b7a3ed65b624438a625839de20c1172",
            "62d46937c25a416584aa7bc23feb3c08",
            "e86b878f2c294ae7a0f3affc24fa5628",
            "7907cd8005c54020b4d35e294eb3054c",
            "c4500291e5fc4f2a82cec6d09d38803f",
            "0d3f93237afb45f7bbc3c448694b3488",
            "ec0e9917afdd4e1a9279bf4167f7a17d",
            "e7b2185adf6643f6b99ecc981a1a30d4",
            "12624bc402a042e4be9f1803da5d1902",
            "383c90db006041cb966767dbac3751f7",
            "c02dc6712d5e4911b304c2508a6909bb",
            "0fad77dacf834771993c4789b9c581dd",
            "2dc122b88e8b4058938447b31551b4e0",
            "63fdc14e1fa44b7e9152ee88d67f52da",
            "8218680276854526be613572eadb23b6",
            "efcd602d5f9b4760abd799702d6d227b",
            "1248a38db5924415b20d37058a6d72e5",
            "68dc37bd752d4401a9861ad94ca84c3e",
            "4f7afb7c02b6493795a71fbd18ed204d",
            "41b861de8d1d48fbaed0347ed2cdd201",
            "4dda70e268a14d02875d38b6d0bef36f",
            "064ca4e688a8452aba2c2ece5f054c15",
            "ef22103495c549779b1f49aca4910b33",
            "7dace42dbcf7435895f5ec553b38e76f",
            "48be9134562a464f88ea18076316bc4d",
            "36415c970abc4863bea24a4df0763827",
            "7cd8a9d4c6e14bc4867f05e3c8eed833",
            "3d83c01280d7426c99e554cef96e8c04",
            "3d581d889d084df9988696ba81130a34",
            "f4f23f950d30457da93191e298107d60",
            "40682b8f98dd4e14b82a254db56da427",
            "4abbfc5e479a4c9faea45304c05b3f05",
            "398449d1cfba448c8f4bf9aedddff5eb",
            "92bb2fa8cf7e4ddfae42bc4c7c45640c",
            "1982959dd088457fb4fdbdcbaf2a1ff5",
            "660554785a094520a96874fd547fb9fd",
            "61c6d01f92874215b201ba515531eb43",
            "3e4eace3e8264efdacdd1d3dc3275b97",
            "390e9266ccc84b97808eede7ba32b966",
            "496418bfebb74c108e0823f8a83f0b8c",
            "dd152b3e5245473c8c8bd85ec5decd20",
            "0876ae495abd4f81914aa3308ed82a26",
            "bb3efeb00a7749afb6635bb5093f1425",
            "50079225e2a04e1d815dcf1293e78048",
            "90e8cef57bf04a5bbec2e5014034fe3a",
            "a57d59cef4634fc79c06712e47ccb631",
            "e9e3062aef1e47d1b7d0b8da1434c4cc",
            "60a69f40c75d4b27ad6f1f290a3afdf3",
            "56e13703b128428e96b2fad0cd2652d8",
            "a4955edaa4e640f0b83483c3fe038b60",
            "18c5bb7f0d464f329e17857ca2f16962",
            "312cc6cb47634dce8f1ad00fa36ddb06",
            "6ce75385c7e54c1c818f23a94104fef9",
            "dcd8384f2357416c9bebfb2a9191fa9a",
            "e481ffb29a9944b88a24bc684f9437a4",
            "75438ecae0ed4f6bbfa6fc200af15908",
            "83fc40f736fb4a6b8b9624651a076d9d",
            "d14a45502b4f4a8bac7f4be2202c7f4e",
            "b888fde2d03f4e2f9bde79a5f8a4974f",
            "be956835458e4e92b29b14f4348fc208",
            "673a3e5dd52a406c9a332a1e200ab806",
            "411c114203e747848151d3209220a212",
            "7782008f536a430c91957fa2ddb8be00",
            "18cf482d880344bc9e1d29928c328a55",
            "c6195485cf3f4ce2894ccea8ec1ccfdc",
            "a73eb82e652d4107912b8ccc87a73a1e",
            "82593ad6b7fc4638b72b97d248b1bd63",
            "6d640eea17194a00a8f9d6dc44fe4ee0",
            "4fefeb91aa744170b773b4b1aa7786bc",
            "88340d65eb4341009e3757de1f596c73",
            "29d082fa8dd64df6b87e89c2cf9460fa"
          ]
        },
        "id": "H5f30jvlly7y",
        "outputId": "0f59e7e1-0327-4675-9d49-daafef309c4e"
      },
      "execution_count": null,
      "outputs": [
        {
          "output_type": "stream",
          "name": "stdout",
          "text": [
            "====================================================================================================\n",
            "newspaper_name:  Alittihad\n"
          ]
        },
        {
          "output_type": "display_data",
          "data": {
            "application/vnd.jupyter.widget-view+json": {
              "model_id": "4912703aaf3d43d5827681a906ba36d5",
              "version_minor": 0,
              "version_major": 2
            },
            "text/plain": [
              "Downloading:   0%|          | 0.00/2.11k [00:00<?, ?B/s]"
            ]
          },
          "metadata": {}
        },
        {
          "output_type": "display_data",
          "data": {
            "application/vnd.jupyter.widget-view+json": {
              "model_id": "4a63ee388d7542f58fdb8261b4e825fa",
              "version_minor": 0,
              "version_major": 2
            },
            "text/plain": [
              "Downloading:   0%|          | 0.00/1.86k [00:00<?, ?B/s]"
            ]
          },
          "metadata": {}
        },
        {
          "output_type": "stream",
          "name": "stdout",
          "text": [
            "Downloading and preparing dataset arabic_billion_words/Alittihad (download: 332.13 MiB, generated: 1.49 GiB, post-processed: Unknown size, total: 1.82 GiB) to /root/.cache/huggingface/datasets/arabic_billion_words/Alittihad/1.1.0/687a1f963284c8a766558661375ea8f7ab3fa3633f8cd9c9f42a53ebe83bfe17...\n"
          ]
        },
        {
          "output_type": "display_data",
          "data": {
            "application/vnd.jupyter.widget-view+json": {
              "model_id": "0bb8cf5495cc4509a9f4a7342dddfddd",
              "version_minor": 0,
              "version_major": 2
            },
            "text/plain": [
              "Downloading:   0%|          | 0.00/348M [00:00<?, ?B/s]"
            ]
          },
          "metadata": {}
        },
        {
          "output_type": "display_data",
          "data": {
            "application/vnd.jupyter.widget-view+json": {
              "model_id": "92744058fd244fe2abfd406b77a7efee",
              "version_minor": 0,
              "version_major": 2
            },
            "text/plain": [
              "0 examples [00:00, ? examples/s]"
            ]
          },
          "metadata": {}
        },
        {
          "output_type": "stream",
          "name": "stdout",
          "text": [
            "Dataset arabic_billion_words downloaded and prepared to /root/.cache/huggingface/datasets/arabic_billion_words/Alittihad/1.1.0/687a1f963284c8a766558661375ea8f7ab3fa3633f8cd9c9f42a53ebe83bfe17. Subsequent calls will reuse this data.\n"
          ]
        },
        {
          "output_type": "display_data",
          "data": {
            "application/vnd.jupyter.widget-view+json": {
              "model_id": "f9ffb435a24144e9b1e5aec1168f8e56",
              "version_minor": 0,
              "version_major": 2
            },
            "text/plain": [
              "  0%|          | 0/1 [00:00<?, ?it/s]"
            ]
          },
          "metadata": {}
        },
        {
          "output_type": "stream",
          "name": "stderr",
          "text": [
            "100%|██████████| 349342/349342 [11:58<00:00, 486.45it/s]\n"
          ]
        },
        {
          "output_type": "stream",
          "name": "stdout",
          "text": [
            "All words count:  118369101\n",
            "Length of unique words :  2922770\n",
            "====================================================================================================\n",
            "newspaper_name:  Almasryalyoum\n",
            "Downloading and preparing dataset arabic_billion_words/Almasryalyoum (download: 231.37 MiB, generated: 1007.27 MiB, post-processed: Unknown size, total: 1.21 GiB) to /root/.cache/huggingface/datasets/arabic_billion_words/Almasryalyoum/1.1.0/687a1f963284c8a766558661375ea8f7ab3fa3633f8cd9c9f42a53ebe83bfe17...\n"
          ]
        },
        {
          "output_type": "display_data",
          "data": {
            "application/vnd.jupyter.widget-view+json": {
              "model_id": "121f648152c248369f1326f9042033c2",
              "version_minor": 0,
              "version_major": 2
            },
            "text/plain": [
              "Downloading:   0%|          | 0.00/243M [00:00<?, ?B/s]"
            ]
          },
          "metadata": {}
        },
        {
          "output_type": "display_data",
          "data": {
            "application/vnd.jupyter.widget-view+json": {
              "model_id": "e81a89e34f1c446389058872b1cb7104",
              "version_minor": 0,
              "version_major": 2
            },
            "text/plain": [
              "0 examples [00:00, ? examples/s]"
            ]
          },
          "metadata": {}
        },
        {
          "output_type": "stream",
          "name": "stdout",
          "text": [
            "Dataset arabic_billion_words downloaded and prepared to /root/.cache/huggingface/datasets/arabic_billion_words/Almasryalyoum/1.1.0/687a1f963284c8a766558661375ea8f7ab3fa3633f8cd9c9f42a53ebe83bfe17. Subsequent calls will reuse this data.\n"
          ]
        },
        {
          "output_type": "display_data",
          "data": {
            "application/vnd.jupyter.widget-view+json": {
              "model_id": "16e73a84a201460cbc9fd15ef40fbda0",
              "version_minor": 0,
              "version_major": 2
            },
            "text/plain": [
              "  0%|          | 0/1 [00:00<?, ?it/s]"
            ]
          },
          "metadata": {}
        },
        {
          "output_type": "stream",
          "name": "stderr",
          "text": [
            "100%|██████████| 291723/291723 [07:41<00:00, 632.19it/s]\n"
          ]
        },
        {
          "output_type": "stream",
          "name": "stdout",
          "text": [
            "All words count:  78920622\n",
            "Length of unique words :  2162207\n",
            "====================================================================================================\n",
            "newspaper_name:  Almustaqbal\n",
            "Downloading and preparing dataset arabic_billion_words/Almustaqbal (download: 334.57 MiB, generated: 1.44 GiB, post-processed: Unknown size, total: 1.77 GiB) to /root/.cache/huggingface/datasets/arabic_billion_words/Almustaqbal/1.1.0/687a1f963284c8a766558661375ea8f7ab3fa3633f8cd9c9f42a53ebe83bfe17...\n"
          ]
        },
        {
          "output_type": "display_data",
          "data": {
            "application/vnd.jupyter.widget-view+json": {
              "model_id": "0d3f93237afb45f7bbc3c448694b3488",
              "version_minor": 0,
              "version_major": 2
            },
            "text/plain": [
              "Downloading:   0%|          | 0.00/351M [00:02<?, ?B/s]"
            ]
          },
          "metadata": {}
        },
        {
          "output_type": "display_data",
          "data": {
            "application/vnd.jupyter.widget-view+json": {
              "model_id": "1248a38db5924415b20d37058a6d72e5",
              "version_minor": 0,
              "version_major": 2
            },
            "text/plain": [
              "0 examples [00:00, ? examples/s]"
            ]
          },
          "metadata": {}
        },
        {
          "output_type": "stream",
          "name": "stdout",
          "text": [
            "Dataset arabic_billion_words downloaded and prepared to /root/.cache/huggingface/datasets/arabic_billion_words/Almustaqbal/1.1.0/687a1f963284c8a766558661375ea8f7ab3fa3633f8cd9c9f42a53ebe83bfe17. Subsequent calls will reuse this data.\n"
          ]
        },
        {
          "output_type": "display_data",
          "data": {
            "application/vnd.jupyter.widget-view+json": {
              "model_id": "3d83c01280d7426c99e554cef96e8c04",
              "version_minor": 0,
              "version_major": 2
            },
            "text/plain": [
              "  0%|          | 0/1 [00:00<?, ?it/s]"
            ]
          },
          "metadata": {}
        },
        {
          "output_type": "stream",
          "name": "stderr",
          "text": [
            "100%|██████████| 446873/446873 [11:01<00:00, 675.38it/s]\n"
          ]
        },
        {
          "output_type": "stream",
          "name": "stdout",
          "text": [
            "All words count:  110820907\n",
            "Length of unique words :  3049668\n",
            "====================================================================================================\n",
            "newspaper_name:  Alqabas\n",
            "Downloading and preparing dataset arabic_billion_words/Alqabas (download: 567.70 MiB, generated: 2.45 GiB, post-processed: Unknown size, total: 3.01 GiB) to /root/.cache/huggingface/datasets/arabic_billion_words/Alqabas/1.1.0/687a1f963284c8a766558661375ea8f7ab3fa3633f8cd9c9f42a53ebe83bfe17...\n"
          ]
        },
        {
          "output_type": "display_data",
          "data": {
            "application/vnd.jupyter.widget-view+json": {
              "model_id": "390e9266ccc84b97808eede7ba32b966",
              "version_minor": 0,
              "version_major": 2
            },
            "text/plain": [
              "Downloading:   0%|          | 0.00/595M [00:03<?, ?B/s]"
            ]
          },
          "metadata": {}
        },
        {
          "output_type": "display_data",
          "data": {
            "application/vnd.jupyter.widget-view+json": {
              "model_id": "a4955edaa4e640f0b83483c3fe038b60",
              "version_minor": 0,
              "version_major": 2
            },
            "text/plain": [
              "0 examples [00:00, ? examples/s]"
            ]
          },
          "metadata": {}
        },
        {
          "output_type": "stream",
          "name": "stdout",
          "text": [
            "Dataset arabic_billion_words downloaded and prepared to /root/.cache/huggingface/datasets/arabic_billion_words/Alqabas/1.1.0/687a1f963284c8a766558661375ea8f7ab3fa3633f8cd9c9f42a53ebe83bfe17. Subsequent calls will reuse this data.\n"
          ]
        },
        {
          "output_type": "display_data",
          "data": {
            "application/vnd.jupyter.widget-view+json": {
              "model_id": "673a3e5dd52a406c9a332a1e200ab806",
              "version_minor": 0,
              "version_major": 2
            },
            "text/plain": [
              "  0%|          | 0/1 [00:00<?, ?it/s]"
            ]
          },
          "metadata": {}
        },
        {
          "output_type": "stream",
          "name": "stderr",
          "text": [
            " 75%|███████▍  | 610974/817274 [15:25<04:34, 751.33it/s]"
          ]
        }
      ]
    },
    {
      "cell_type": "code",
      "source": [
        "from tqdm import tqdm\n",
        "import io\n",
        "import regex\n",
        "import os\n",
        "from datasets import load_dataset\n",
        "\n",
        "\n",
        "lst_names = [\"Alittihad\", \"Almasryalyoum\", \"Almustaqbal\", \"Alqabas\", \"Echoroukonline\", \"Ryiadh\", \"Sabanews\", \"SaudiYoum\", \"Techreen\", \"Youm7\"]\n",
        "\n",
        "out_dir_final_txt = \"final_txt\"\n",
        "os.makedirs(out_dir_final_txt, exist_ok=True)\n",
        "\n",
        "all_newspaper_arabic_processed_words = []\n",
        "\n",
        "for newspaper_name in lst_names:\n",
        "    print(\"=\" * 100)\n",
        "    print(f\"newspaper_name: \", newspaper_name)\n",
        "\n",
        "    out_file = os.path.join(out_dir_final_txt, f\"{newspaper_name}-unique-words.txt\")\n",
        "    if os.path.exists(out_file):\n",
        "      print(f\"Already processed this newspaper ... final file exists on disk..\")\n",
        "      continue\n",
        "\n",
        "    dataset = load_dataset(\"arabic_billion_words\", newspaper_name)\n",
        "\n",
        "    set_all_arabic_processed_words = set()\n",
        "    for single_text_str in tqdm(dataset[\"train\"][\"text\"]):\n",
        "        # print(single_text_str)\n",
        "        lst_raw_txt = single_text_str.split(\" \")\n",
        "\n",
        "        for raw_txt in lst_raw_txt:\n",
        "            only_arabic = regex.sub(r'[^\\u0600-\\u06FF]', u'', raw_txt)\n",
        "            # print(only_arabic)\n",
        "\n",
        "            if only_arabic and (len(only_arabic) > 2):\n",
        "              set_all_arabic_processed_words.add(only_arabic)\n",
        "\n",
        "    print(f\"Set all words count: \", len(set_all_arabic_processed_words))\n",
        "\n",
        "    with io.open(out_file, \"w\", encoding=\"utf-8\") as f:\n",
        "        f.write(\"\\n\".join(set_all_arabic_processed_words))\n",
        "\n",
        "# print(f\"All newspaper words: \", len(all_newspaper_arabic_processed_words))\n",
        "\n",
        "# lst_unique_all_newspaper_arabic_processed_words = list(set(all_newspaper_arabic_processed_words))\n",
        "# print(f\"Length of all newspaper unique words : \", len(lst_unique_all_newspaper_arabic_processed_words))\n",
        "\n",
        "# out_file_all_newspapers = os.path.join(out_dir_final_txt, f\"all-newspapers-unique-words.txt\")\n",
        "# with io.open(out_file_all_newspapers, \"w\", encoding=\"utf-8\") as f:\n",
        "#     f.write(\"\\n\".join(lst_unique_all_newspaper_arabic_processed_words))"
      ],
      "metadata": {
        "colab": {
          "base_uri": "https://localhost:8080/",
          "height": 1000,
          "referenced_widgets": [
            "445ba2ff71c447b0b3bec12e5b22579a",
            "6eab1694bfec43698de9efa03135adef",
            "57bd042c87f14293841dfe911db52375",
            "439f80a83af642ebac1c9cde88ac164d",
            "cc42a5ceeffa40bdaaf84a7327a5b705",
            "1e8235f565a642dab0524d3752338efa",
            "2c491cb6b8f64cfe8602faf95041b88b",
            "04035523839e403c85b4fa148c13d7f8",
            "5615a85b0d7640e7b8fe1b54b8f4ebc1",
            "33702edd22cf42dd85549d4e058169a7",
            "ea35695ec88f446abcec99beb79a345e",
            "af56be5d71e4464f8c814f10862c60fe",
            "36039e82a653435b90187e45a6398983",
            "f490b2e1b82240b79604e27eb6633517",
            "d56b981669e44af5a51560efbc21e75e",
            "9c1e9acabccf4fa0b2d418c37f72c320",
            "b6088e5ba2604054ba7cf245a09ae9da",
            "b8decd4d99114ad7b737825fac1396a8",
            "d592e5b8627643c5a565e4fb7e3a36e2",
            "ede111cbf78345449d840b5a295be3c8",
            "f9a8064336314cc6b1e3bd657ca35409",
            "36bd7e6a1d3f4af0a9b3c8a2ebfab2be",
            "9dfdf90ea27c438287e97a5bcf2dbf38",
            "dc31b8346f0c4cfc99eab17b13242d10",
            "d96195ac56b54e7e91eb87802ac92ba9",
            "1afa894c04ae4124b73c0bcf04273fff",
            "e3640fb29c81487fbc9e71a92b899baf",
            "e43c214eec3c4f3ab25cbed82243dbc3",
            "739351118c104c54acd556644c0db455",
            "741f53f703e243509d46e9bf9c3e4b53",
            "fe1651d37ebf4d3eb875505469955ff1",
            "ff50d8443736488f9bc7672462e3b6b3",
            "b0215afe88b844e898844c4c69c42c36",
            "9ef587286acc4ac1aca07f76534f130e",
            "9cddfd9a7068441a94387f1e158c298c",
            "83256d30714f4af0ab73d15c125a5170",
            "cebb0a182b3042899d368a8dbc2823f7",
            "5450339f813a40bab3d0e3f8901406da",
            "01db9dd8719c4687879c7bf0fda41eb5",
            "678c0211ea804a229de7b101eb872339",
            "a2d5f52f8a5547c6855fc83f2ad1c5f6",
            "71b8229793074e18975177a45d933d37",
            "8137e2c8a63c452b92c4554ea4282f28",
            "f291a4f0c8e541f4952066b4f94a038c",
            "ce418ba2559846f5940c19e80543c92f",
            "c0872e2b8c3d42b7b8c42d74de36a88b",
            "762eb2c5d565464c8acb8de87d3b2807",
            "7267c604914a4d93a6a981f51bfa0eeb",
            "4d947020269d47cbaca59ab8d752d525",
            "2b5860bd3902423296281a57467d17f1",
            "6a45e7e183ee47dfa730807e061bcdb3",
            "17baffdf11114f30abe634e85236d4aa",
            "e206ede76e844ba080f0ef5c7cfbde64",
            "a14f792203ed400bbce7384feaf94b98",
            "07859b9a116b416d8dc317fa8305d32a",
            "09974ee4943d4e1c99183814579a12cc",
            "7a15c2e40bb449408e54efb362137485",
            "e4a55dcc69a34c71971b8c902f3461ac",
            "815b4e89d5db49b2b7b323f75aeae351",
            "81f3aff1f1b746be813eb2db33f966be",
            "eb18c1ead8a2401a940fe5be8b4a11e9",
            "f6cc4a409d1741b4b8342da76b014993",
            "636169bc5a8b4d3e8b0202482a092dda",
            "7592d7ee176d4528ac5eb3229f10b9ac",
            "99db3b5ab422458c8f45f37be3f027e9",
            "2088812043f04be5aa86f67456e6313c",
            "d3280bd495864df09af6b176855ec80a",
            "145660724ef6439db4bf6fc34c896f02",
            "57be7d1822b34399b1f74cadd12e0cc3",
            "fa029dda2a8a46e4bc606648836f62de",
            "d7358d57e6e5468d92f48e4b8cac99e0",
            "54675801c2084fa0b2a84351b83aa752",
            "198d3f18f2f248c3bfebf63a6834c2b3",
            "fc0f800e4fdd46b3acda4c1012ca1e70",
            "648e7fdce76d4bbabeca656931551437",
            "737e28f04ce346888dbf18199b88e52d",
            "f53793e1d676411f989dda32bed16930",
            "fda8f9fce10d4d9eb0a72258072682fa",
            "0be9334d75474af78ac87aa7dcb57063",
            "d4a8b3ab5b0f4f469ecd09d39e16259b",
            "5ea9801063004739806f0e00af6316d7",
            "f31ecd7e5dad4a3ebf46132041d9a43a",
            "a11a80f68e4045528eed9ac40f41fbaf",
            "fc952901093944b1840050e01aeeb29e",
            "0a754ad7111741eb8a4e793c7cbaca25",
            "0aeaddca68b345c4ab1b0ada95f2b5bc",
            "4b5984f7eda646aaa482c7945b304ae9",
            "5e91c7057ae64f1190710487fac9f26e",
            "9f2a33bb962146319057bdd202137183",
            "8243239677e84f1b8a75698f899969e1",
            "66658fc2801846a9b3bae3c26ae8f0d2",
            "a420be220e9a4ae9b7959b741791168a",
            "c5b6e9987cfe434fb4d1b4abd9d82784",
            "84ec6b5600114fac97a6efd761f7ae30",
            "28ab0a987057471492f7ea8e5f5c6ddf",
            "9566b467e4ad48bcb9fda5e3e09828b5",
            "0417f59af2414078a7da10f2470bf7b8",
            "70fbbc6cbf394a18af69ef04b3b91e06",
            "9e990f89b3b14f66b0b8ca717b0f7fd0",
            "4fd769566c6946cc99533c7ca803afa6",
            "1f20fcb75bc6452db2d6aa603dcb916b",
            "eda154361c9c4dfcb054ba5d90649672",
            "7ec42ee7297b41a182f2f4bcad9129c8",
            "e1a86ef42b1744c1ace7d70e2b4e8428",
            "4fd61b6b3aed437da9f9ee3ffc331373",
            "d256022d3f5a49229be1d04321f31650",
            "0beaa2c198b04bb3b0313ecb1abef238",
            "26d7d0c16c7c456c9d1e5fb3a3179c46",
            "afb3bd97f9cf480895190325d79daa85",
            "3d614e8ea36344ab9af89faf28d5207c",
            "93971a2979314e1fbc083eecb5393da8",
            "564a0fb948d64238afe53704f3de2c9a",
            "8de5ffe0d45841bd80ca69fa509b6547",
            "754446ea2821485a827d8be4c257c370",
            "04dbf4842b6b471cb70a1ec557194136",
            "f562c2bfa1a94cfead65a73f006514f0",
            "ad2edc3695bb4e4199779c522a476286",
            "5891bce4f185485781278ffc947e7cbe",
            "8dfcdd9dc2844a28980ca944f49f9b97",
            "2e517a856f2748e0bb32dbb672fe7bbe",
            "1013a536d3c1427e945a3d4d9f069cef",
            "df76d87c41b54f9db450f86f32a2882d",
            "00f18e716eea402dbd80df59c915b80d",
            "e078de2ae25240238813bb62d0c12e43",
            "467923ba537049bfabb764d549f639a5",
            "48c44e8886b44b52b100dce0457715b5",
            "3b0da5d29a7a491987a2a563576da211",
            "b1b8ec78b8ac484489e76492118532fe",
            "800f448acf144890bd827b6b0e9d359c",
            "79d00736cfec45fcb39f5ce0cdd154c0",
            "01460f624b954a82afa925de3c55b6d0",
            "1b3a731e4a2d44ea86fce52d729d9f10",
            "3801e81267f34cb290e8514e2f57f062",
            "a7eeec66d425454e8546636c2e8903b1",
            "2cc25af63d78480bb802babf42c03639",
            "1bd73fc829a54ad99c4489b7bd3b8faa",
            "532f346ba718437e8e48a496c078ed4a",
            "3686fb2d6bf0407f9bf2583bf8f5b334",
            "f0d7c1d03b15424e86d9958062600f5d",
            "a70f7b46df334bbbbf43fce1a9e6e1f1",
            "71928d2ae076432cb5ba30d7549ed1bb",
            "ad0f57e8694842bfbd978978d2248d13",
            "922100b3aab3476ab091bf4e05f0b765"
          ]
        },
        "id": "CLsKS_TLznxC",
        "outputId": "2eef046c-2012-480a-b080-a2b5c12c2e3e"
      },
      "execution_count": null,
      "outputs": [
        {
          "output_type": "stream",
          "name": "stdout",
          "text": [
            "====================================================================================================\n",
            "newspaper_name:  Alittihad\n",
            "Already processed this newspaper ... final file exists on disk..\n",
            "====================================================================================================\n",
            "newspaper_name:  Almasryalyoum\n",
            "Already processed this newspaper ... final file exists on disk..\n",
            "====================================================================================================\n",
            "newspaper_name:  Almustaqbal\n",
            "Already processed this newspaper ... final file exists on disk..\n",
            "====================================================================================================\n",
            "newspaper_name:  Alqabas\n",
            "Already processed this newspaper ... final file exists on disk..\n",
            "====================================================================================================\n",
            "newspaper_name:  Echoroukonline\n",
            "Already processed this newspaper ... final file exists on disk..\n",
            "====================================================================================================\n",
            "newspaper_name:  Ryiadh\n"
          ]
        },
        {
          "output_type": "stream",
          "name": "stderr",
          "text": [
            "Reusing dataset arabic_billion_words (/root/.cache/huggingface/datasets/arabic_billion_words/Ryiadh/1.1.0/687a1f963284c8a766558661375ea8f7ab3fa3633f8cd9c9f42a53ebe83bfe17)\n"
          ]
        },
        {
          "output_type": "display_data",
          "data": {
            "application/vnd.jupyter.widget-view+json": {
              "model_id": "445ba2ff71c447b0b3bec12e5b22579a",
              "version_minor": 0,
              "version_major": 2
            },
            "text/plain": [
              "  0%|          | 0/1 [00:00<?, ?it/s]"
            ]
          },
          "metadata": {}
        },
        {
          "output_type": "stream",
          "name": "stderr",
          "text": [
            "100%|██████████| 858188/858188 [25:05<00:00, 570.00it/s]\n"
          ]
        },
        {
          "output_type": "stream",
          "name": "stdout",
          "text": [
            "Set all words count:  5124123\n",
            "====================================================================================================\n",
            "newspaper_name:  Sabanews\n",
            "Downloading and preparing dataset arabic_billion_words/Sabanews (download: 36.44 MiB, generated: 188.85 MiB, post-processed: Unknown size, total: 225.29 MiB) to /root/.cache/huggingface/datasets/arabic_billion_words/Sabanews/1.1.0/687a1f963284c8a766558661375ea8f7ab3fa3633f8cd9c9f42a53ebe83bfe17...\n"
          ]
        },
        {
          "output_type": "display_data",
          "data": {
            "application/vnd.jupyter.widget-view+json": {
              "model_id": "af56be5d71e4464f8c814f10862c60fe",
              "version_minor": 0,
              "version_major": 2
            },
            "text/plain": [
              "Downloading:   0%|          | 0.00/38.2M [00:00<?, ?B/s]"
            ]
          },
          "metadata": {}
        },
        {
          "output_type": "display_data",
          "data": {
            "application/vnd.jupyter.widget-view+json": {
              "model_id": "9dfdf90ea27c438287e97a5bcf2dbf38",
              "version_minor": 0,
              "version_major": 2
            },
            "text/plain": [
              "0 examples [00:00, ? examples/s]"
            ]
          },
          "metadata": {}
        },
        {
          "output_type": "stream",
          "name": "stdout",
          "text": [
            "Dataset arabic_billion_words downloaded and prepared to /root/.cache/huggingface/datasets/arabic_billion_words/Sabanews/1.1.0/687a1f963284c8a766558661375ea8f7ab3fa3633f8cd9c9f42a53ebe83bfe17. Subsequent calls will reuse this data.\n"
          ]
        },
        {
          "output_type": "display_data",
          "data": {
            "application/vnd.jupyter.widget-view+json": {
              "model_id": "9ef587286acc4ac1aca07f76534f130e",
              "version_minor": 0,
              "version_major": 2
            },
            "text/plain": [
              "  0%|          | 0/1 [00:00<?, ?it/s]"
            ]
          },
          "metadata": {}
        },
        {
          "output_type": "stream",
          "name": "stderr",
          "text": [
            "100%|██████████| 92149/92149 [01:30<00:00, 1017.65it/s]\n"
          ]
        },
        {
          "output_type": "stream",
          "name": "stdout",
          "text": [
            "Set all words count:  314232\n",
            "====================================================================================================\n",
            "newspaper_name:  SaudiYoum\n",
            "Downloading and preparing dataset arabic_billion_words/SaudiYoum (download: 577.49 MiB, generated: 2.54 GiB, post-processed: Unknown size, total: 3.10 GiB) to /root/.cache/huggingface/datasets/arabic_billion_words/SaudiYoum/1.1.0/687a1f963284c8a766558661375ea8f7ab3fa3633f8cd9c9f42a53ebe83bfe17...\n"
          ]
        },
        {
          "output_type": "display_data",
          "data": {
            "application/vnd.jupyter.widget-view+json": {
              "model_id": "ce418ba2559846f5940c19e80543c92f",
              "version_minor": 0,
              "version_major": 2
            },
            "text/plain": [
              "Downloading:   0%|          | 0.00/606M [00:00<?, ?B/s]"
            ]
          },
          "metadata": {}
        },
        {
          "output_type": "display_data",
          "data": {
            "application/vnd.jupyter.widget-view+json": {
              "model_id": "09974ee4943d4e1c99183814579a12cc",
              "version_minor": 0,
              "version_major": 2
            },
            "text/plain": [
              "0 examples [00:00, ? examples/s]"
            ]
          },
          "metadata": {}
        },
        {
          "output_type": "stream",
          "name": "stdout",
          "text": [
            "Dataset arabic_billion_words downloaded and prepared to /root/.cache/huggingface/datasets/arabic_billion_words/SaudiYoum/1.1.0/687a1f963284c8a766558661375ea8f7ab3fa3633f8cd9c9f42a53ebe83bfe17. Subsequent calls will reuse this data.\n"
          ]
        },
        {
          "output_type": "display_data",
          "data": {
            "application/vnd.jupyter.widget-view+json": {
              "model_id": "d3280bd495864df09af6b176855ec80a",
              "version_minor": 0,
              "version_major": 2
            },
            "text/plain": [
              "  0%|          | 0/1 [00:00<?, ?it/s]"
            ]
          },
          "metadata": {}
        },
        {
          "output_type": "stream",
          "name": "stderr",
          "text": [
            "100%|██████████| 888068/888068 [23:03<00:00, 641.81it/s]\n"
          ]
        },
        {
          "output_type": "stream",
          "name": "stdout",
          "text": [
            "Set all words count:  4097316\n",
            "====================================================================================================\n",
            "newspaper_name:  Techreen\n",
            "Downloading and preparing dataset arabic_billion_words/Techreen (download: 241.26 MiB, generated: 1.03 GiB, post-processed: Unknown size, total: 1.26 GiB) to /root/.cache/huggingface/datasets/arabic_billion_words/Techreen/1.1.0/687a1f963284c8a766558661375ea8f7ab3fa3633f8cd9c9f42a53ebe83bfe17...\n"
          ]
        },
        {
          "output_type": "display_data",
          "data": {
            "application/vnd.jupyter.widget-view+json": {
              "model_id": "fda8f9fce10d4d9eb0a72258072682fa",
              "version_minor": 0,
              "version_major": 2
            },
            "text/plain": [
              "Downloading:   0%|          | 0.00/253M [00:00<?, ?B/s]"
            ]
          },
          "metadata": {}
        },
        {
          "output_type": "display_data",
          "data": {
            "application/vnd.jupyter.widget-view+json": {
              "model_id": "9f2a33bb962146319057bdd202137183",
              "version_minor": 0,
              "version_major": 2
            },
            "text/plain": [
              "0 examples [00:00, ? examples/s]"
            ]
          },
          "metadata": {}
        },
        {
          "output_type": "stream",
          "name": "stdout",
          "text": [
            "Dataset arabic_billion_words downloaded and prepared to /root/.cache/huggingface/datasets/arabic_billion_words/Techreen/1.1.0/687a1f963284c8a766558661375ea8f7ab3fa3633f8cd9c9f42a53ebe83bfe17. Subsequent calls will reuse this data.\n"
          ]
        },
        {
          "output_type": "display_data",
          "data": {
            "application/vnd.jupyter.widget-view+json": {
              "model_id": "4fd769566c6946cc99533c7ca803afa6",
              "version_minor": 0,
              "version_major": 2
            },
            "text/plain": [
              "  0%|          | 0/1 [00:00<?, ?it/s]"
            ]
          },
          "metadata": {}
        },
        {
          "output_type": "stream",
          "name": "stderr",
          "text": [
            "100%|██████████| 314597/314597 [09:41<00:00, 540.71it/s]\n"
          ]
        },
        {
          "output_type": "stream",
          "name": "stdout",
          "text": [
            "Set all words count:  1932487\n",
            "====================================================================================================\n",
            "newspaper_name:  Youm7\n",
            "Downloading and preparing dataset arabic_billion_words/Youm7 (download: 589.09 MiB, generated: 2.80 GiB, post-processed: Unknown size, total: 3.37 GiB) to /root/.cache/huggingface/datasets/arabic_billion_words/Youm7/1.1.0/687a1f963284c8a766558661375ea8f7ab3fa3633f8cd9c9f42a53ebe83bfe17...\n"
          ]
        },
        {
          "output_type": "display_data",
          "data": {
            "application/vnd.jupyter.widget-view+json": {
              "model_id": "93971a2979314e1fbc083eecb5393da8",
              "version_minor": 0,
              "version_major": 2
            },
            "text/plain": [
              "Downloading:   0%|          | 0.00/618M [00:00<?, ?B/s]"
            ]
          },
          "metadata": {}
        },
        {
          "output_type": "display_data",
          "data": {
            "application/vnd.jupyter.widget-view+json": {
              "model_id": "df76d87c41b54f9db450f86f32a2882d",
              "version_minor": 0,
              "version_major": 2
            },
            "text/plain": [
              "0 examples [00:00, ? examples/s]"
            ]
          },
          "metadata": {}
        },
        {
          "output_type": "stream",
          "name": "stdout",
          "text": [
            "Dataset arabic_billion_words downloaded and prepared to /root/.cache/huggingface/datasets/arabic_billion_words/Youm7/1.1.0/687a1f963284c8a766558661375ea8f7ab3fa3633f8cd9c9f42a53ebe83bfe17. Subsequent calls will reuse this data.\n"
          ]
        },
        {
          "output_type": "display_data",
          "data": {
            "application/vnd.jupyter.widget-view+json": {
              "model_id": "3801e81267f34cb290e8514e2f57f062",
              "version_minor": 0,
              "version_major": 2
            },
            "text/plain": [
              "  0%|          | 0/1 [00:00<?, ?it/s]"
            ]
          },
          "metadata": {}
        },
        {
          "output_type": "stream",
          "name": "stderr",
          "text": [
            " 28%|██▊       | 326500/1172136 [07:32<19:32, 721.26it/s]\n"
          ]
        },
        {
          "output_type": "error",
          "ename": "KeyboardInterrupt",
          "evalue": "ignored",
          "traceback": [
            "\u001b[0;31m---------------------------------------------------------------------------\u001b[0m",
            "\u001b[0;31mKeyboardInterrupt\u001b[0m                         Traceback (most recent call last)",
            "\u001b[0;32m<ipython-input-3-a3e7a89b0216>\u001b[0m in \u001b[0;36m<module>\u001b[0;34m()\u001b[0m\n\u001b[1;32m     30\u001b[0m \u001b[0;34m\u001b[0m\u001b[0m\n\u001b[1;32m     31\u001b[0m         \u001b[0;32mfor\u001b[0m \u001b[0mraw_txt\u001b[0m \u001b[0;32min\u001b[0m \u001b[0mlst_raw_txt\u001b[0m\u001b[0;34m:\u001b[0m\u001b[0;34m\u001b[0m\u001b[0;34m\u001b[0m\u001b[0m\n\u001b[0;32m---> 32\u001b[0;31m             \u001b[0monly_arabic\u001b[0m \u001b[0;34m=\u001b[0m \u001b[0mregex\u001b[0m\u001b[0;34m.\u001b[0m\u001b[0msub\u001b[0m\u001b[0;34m(\u001b[0m\u001b[0;34mr'[^\\u0600-\\u06FF]'\u001b[0m\u001b[0;34m,\u001b[0m \u001b[0;34mu''\u001b[0m\u001b[0;34m,\u001b[0m \u001b[0mraw_txt\u001b[0m\u001b[0;34m)\u001b[0m\u001b[0;34m\u001b[0m\u001b[0;34m\u001b[0m\u001b[0m\n\u001b[0m\u001b[1;32m     33\u001b[0m             \u001b[0;31m# print(only_arabic)\u001b[0m\u001b[0;34m\u001b[0m\u001b[0;34m\u001b[0m\u001b[0;34m\u001b[0m\u001b[0m\n\u001b[1;32m     34\u001b[0m \u001b[0;34m\u001b[0m\u001b[0m\n",
            "\u001b[0;32m/usr/local/lib/python3.7/dist-packages/regex/regex.py\u001b[0m in \u001b[0;36msub\u001b[0;34m(pattern, repl, string, count, flags, pos, endpos, concurrent, timeout, **kwargs)\u001b[0m\n\u001b[1;32m    274\u001b[0m     object and must return a replacement string to be used.\"\"\"\n\u001b[1;32m    275\u001b[0m     return _compile(pattern, flags, kwargs).sub(repl, string, count, pos,\n\u001b[0;32m--> 276\u001b[0;31m       endpos, concurrent, timeout)\n\u001b[0m\u001b[1;32m    277\u001b[0m \u001b[0;34m\u001b[0m\u001b[0m\n\u001b[1;32m    278\u001b[0m def subf(pattern, format, string, count=0, flags=0, pos=None, endpos=None,\n",
            "\u001b[0;31mKeyboardInterrupt\u001b[0m: "
          ]
        }
      ]
    },
    {
      "cell_type": "markdown",
      "source": [
        ""
      ],
      "metadata": {
        "id": "5MmHne7-Ro1R"
      }
    },
    {
      "cell_type": "code",
      "source": [
        "!pip install nb_utils"
      ],
      "metadata": {
        "colab": {
          "base_uri": "https://localhost:8080/"
        },
        "id": "DanLgMDORpBF",
        "outputId": "207b78e2-3031-44ad-d73d-0db59e4df480"
      },
      "execution_count": null,
      "outputs": [
        {
          "output_type": "stream",
          "name": "stdout",
          "text": [
            "Collecting nb_utils\n",
            "  Downloading nb_utils-0.1.1-py3-none-any.whl (24 kB)\n",
            "Installing collected packages: nb-utils\n",
            "Successfully installed nb-utils-0.1.1\n"
          ]
        }
      ]
    },
    {
      "cell_type": "code",
      "source": [
        "import os\n",
        "from nb_utils.file_dir_handling import list_files\n",
        "from tqdm import tqdm \n",
        "\n",
        "txt_files = list_files(\"/content/final_txt\", filter_ext=[\".txt\"], maxdepth=1)\n",
        "set_all_newspaper_words = set()\n",
        "\n",
        "for txt_file in txt_files:\n",
        "    with io.open(txt_file, \"r\", encoding=\"utf-8\") as f:\n",
        "        # print(f.readlines()[:2])\n",
        "        for line in f.readlines():\n",
        "            set_all_newspaper_words.add(line.strip(\"\\n\"))"
      ],
      "metadata": {
        "id": "zG9MN6gARqiU"
      },
      "execution_count": null,
      "outputs": []
    },
    {
      "cell_type": "code",
      "source": [
        "len(set_all_newspaper_words)"
      ],
      "metadata": {
        "colab": {
          "base_uri": "https://localhost:8080/"
        },
        "id": "ipVjcHH_RwLE",
        "outputId": "96c35ddb-2c93-4aa2-e3a9-da5091031435"
      },
      "execution_count": null,
      "outputs": [
        {
          "output_type": "execute_result",
          "data": {
            "text/plain": [
              "17811031"
            ]
          },
          "metadata": {},
          "execution_count": 17
        }
      ]
    },
    {
      "cell_type": "code",
      "source": [
        "list(set_all_newspaper_words)[:2]"
      ],
      "metadata": {
        "colab": {
          "base_uri": "https://localhost:8080/"
        },
        "id": "EfL5GSzkSLyP",
        "outputId": "14c80580-8f27-4b5b-ef87-8f21016856a9"
      },
      "execution_count": null,
      "outputs": [
        {
          "output_type": "execute_result",
          "data": {
            "text/plain": [
              "['المطلوبمشكلة', 'غتيسبرغ']"
            ]
          },
          "metadata": {},
          "execution_count": 18
        }
      ]
    },
    {
      "cell_type": "code",
      "source": [
        "out_file_all_newspapers = os.path.join(out_dir_final_txt, f\"all-newspapers-unique-words.txt\")\n",
        "with io.open(out_file_all_newspapers, \"w\", encoding=\"utf-8\") as f:\n",
        "    f.write(\"\\n\".join(list(set_all_newspaper_words)))"
      ],
      "metadata": {
        "id": "kZZtAq_bTfkU"
      },
      "execution_count": null,
      "outputs": []
    },
    {
      "cell_type": "markdown",
      "source": [
        "## Save data in parts -- "
      ],
      "metadata": {
        "id": "nWOIY5mxUCzw"
      }
    },
    {
      "cell_type": "code",
      "source": [
        "17811031 / 6"
      ],
      "metadata": {
        "colab": {
          "base_uri": "https://localhost:8080/"
        },
        "id": "MIr3v5-pUOOD",
        "outputId": "c07323f5-3a51-4a65-c479-4c102d8c904b"
      },
      "execution_count": null,
      "outputs": [
        {
          "output_type": "execute_result",
          "data": {
            "text/plain": [
              "2968505.1666666665"
            ]
          },
          "metadata": {},
          "execution_count": 20
        }
      ]
    },
    {
      "cell_type": "code",
      "source": [
        "# Yield successive n-sized\n",
        "# chunks from l.\n",
        "def divide_chunks(l, n):\n",
        "      \n",
        "    # looping till length l\n",
        "    for i in range(0, len(l), n): \n",
        "        yield l[i:i + n]\n",
        "  \n",
        "# How many elements each\n",
        "# list should have\n",
        "n = 3000000\n",
        "  \n",
        "lst_sublists = list(divide_chunks(list(set_all_newspaper_words), n))"
      ],
      "metadata": {
        "id": "lLdCsVErUC94"
      },
      "execution_count": null,
      "outputs": []
    },
    {
      "cell_type": "code",
      "source": [
        "out_dir_chunks = \"/content/final_txt/chunks-all-newspaper-unique-words\"\n",
        "os.makedirs(out_dir_chunks, exist_ok=True)"
      ],
      "metadata": {
        "id": "ROxQw2RiUmHv"
      },
      "execution_count": null,
      "outputs": []
    },
    {
      "cell_type": "code",
      "source": [
        "print(f\"len(lst_sublists): \", len(lst_sublists))\n",
        "print(f\"len(lst_sublists)[0]: \", len(lst_sublists[0]))"
      ],
      "metadata": {
        "colab": {
          "base_uri": "https://localhost:8080/"
        },
        "id": "HL8W15IiU3oD",
        "outputId": "f4d8e263-7fc3-4f6d-ef2e-e4015592c0fc"
      },
      "execution_count": null,
      "outputs": [
        {
          "output_type": "stream",
          "name": "stdout",
          "text": [
            "len(lst_sublists):  6\n",
            "len(lst_sublists)[0]:  3000000\n"
          ]
        }
      ]
    },
    {
      "cell_type": "code",
      "source": [
        "for idx, sublist in enumerate(lst_sublists):\n",
        "  out_filename = os.path.join(out_dir_chunks, f\"parts-{idx}-cnt-{len(sublist)}.txt\")\n",
        "  with io.open(out_filename, \"w\", encoding=\"utf-8\") as f:\n",
        "    f.write(\"\\n\".join(sublist))"
      ],
      "metadata": {
        "id": "xslrJGiwVXfn"
      },
      "execution_count": null,
      "outputs": []
    },
    {
      "cell_type": "code",
      "source": [
        "!tar -cf \"final_txt.tar\" \"final_txt\""
      ],
      "metadata": {
        "id": "_VFGmNcxWREs"
      },
      "execution_count": null,
      "outputs": []
    },
    {
      "cell_type": "code",
      "source": [
        "!cp \"/content/final_txt.tar\" \"/content/drive/MyDrive\""
      ],
      "metadata": {
        "id": "EJ4mzjMiWdWN"
      },
      "execution_count": null,
      "outputs": []
    }
  ]
}